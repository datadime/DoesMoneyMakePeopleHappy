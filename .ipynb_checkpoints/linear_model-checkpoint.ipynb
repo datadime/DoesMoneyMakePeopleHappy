{
 "cells": [
  {
   "cell_type": "code",
   "execution_count": 180,
   "metadata": {},
   "outputs": [],
   "source": [
    "import matplotlib.pyplot as plt\n",
    "import numpy as np\n",
    "import pandas as pd\n",
    "import sklearn.linear_model\n",
    "import scipy.stats"
   ]
  },
  {
   "cell_type": "code",
   "execution_count": 153,
   "metadata": {},
   "outputs": [],
   "source": [
    "# Read the Better Life Index data \n",
    "bli=pd.read_csv(\"data/BLI.CSV\", thousands=',')"
   ]
  },
  {
   "cell_type": "code",
   "execution_count": 154,
   "metadata": {},
   "outputs": [],
   "source": [
    "# Read GDP per capita data from IMF. Remember that its in Tab Delimited format.\n",
    "gdp=pd.read_csv(\"data/WEO_Data.csv\", thousands=',')"
   ]
  },
  {
   "cell_type": "code",
   "execution_count": 164,
   "metadata": {},
   "outputs": [],
   "source": [
    "# Rename column \"Value\" to \"Life_Satisfaction\"\n",
    "bli.rename(columns={\"Value\" : \"Life_Satisfaction\"}, inplace=True)"
   ]
  },
  {
   "cell_type": "code",
   "execution_count": 165,
   "metadata": {},
   "outputs": [],
   "source": [
    "# Data Prep\n",
    "bli = bli[['Country','Life_Satisfaction']]\n",
    "gdp = gdp[['Country','GDP']]\n",
    "df = pd.merge(bli,gdp, on='Country', how = 'left')"
   ]
  },
  {
   "cell_type": "code",
   "execution_count": 166,
   "metadata": {},
   "outputs": [],
   "source": [
    "#drop nulls\n",
    "df = df.dropna()"
   ]
  },
  {
   "cell_type": "code",
   "execution_count": 167,
   "metadata": {},
   "outputs": [
    {
     "name": "stdout",
     "output_type": "stream",
     "text": [
      "Empty DataFrame\n",
      "Columns: [Country, Life_Satisfaction, GDP]\n",
      "Index: []\n"
     ]
    }
   ],
   "source": [
    "#Check for Duplicates\n",
    "duplicateDFRow = df[df.duplicated(['Country'])]\n",
    "print(duplicateDFRow)"
   ]
  },
  {
   "cell_type": "code",
   "execution_count": 183,
   "metadata": {},
   "outputs": [
    {
     "data": {
      "text/plain": [
       "(0.7128283232856584, 2.463161651131159e-07)"
      ]
     },
     "execution_count": 183,
     "metadata": {},
     "output_type": "execute_result"
    }
   ],
   "source": [
    "# Pearson Correlation with P-value\n",
    "x = df[\"GDP\"]\n",
    "y = df[\"Life_Satisfaction\"]\n",
    "corr = scipy.stats.pearsonr(x,y)\n",
    "corr"
   ]
  },
  {
   "cell_type": "code",
   "execution_count": 171,
   "metadata": {},
   "outputs": [
    {
     "data": {
      "image/png": "[encoded data removed]",
      "text/plain": [
       "<Figure size 432x288 with 1 Axes>"
      ]
     },
     "metadata": {
      "needs_background": "light"
     },
     "output_type": "display_data"
    }
   ],
   "source": [
    "# Data Viz\n",
    "df.plot(kind='scatter', x='GDP', y ='Life_Satisfaction')\n",
    "plt.show()"
   ]
  },
  {
   "cell_type": "code",
   "execution_count": 172,
   "metadata": {},
   "outputs": [],
   "source": [
    "# Linear regression\n",
    "model = sklearn.linear_model.LinearRegression()"
   ]
  },
  {
   "cell_type": "code",
   "execution_count": 173,
   "metadata": {},
   "outputs": [
    {
     "data": {
      "text/plain": [
       "LinearRegression(copy_X=True, fit_intercept=True, n_jobs=None,\n",
       "         normalize=False)"
      ]
     },
     "execution_count": 173,
     "metadata": {},
     "output_type": "execute_result"
    }
   ],
   "source": [
    "#train\n",
    "x = np.c_[df[\"GDP\"]]\n",
    "y = np.c_[df[\"Life_Satisfaction\"]]\n",
    "model.fit(x, y)"
   ]
  },
  {
   "cell_type": "code",
   "execution_count": 174,
   "metadata": {},
   "outputs": [
    {
     "name": "stdout",
     "output_type": "stream",
     "text": [
      "[[5.71360561]]\n"
     ]
    }
   ],
   "source": [
    "#The model will predict the Life satisfaction metric based on GDP.\n",
    "#Make a prediction. Lets pick Afghanistan. GDP = 513.108\n",
    "x_new = [[513.108]]\n",
    "print(model.predict(x_new))"
   ]
  }
 ],
 "metadata": {
  "kernelspec": {
   "display_name": "Python 3",
   "language": "python",
   "name": "python3"
  },
  "language_info": {
   "codemirror_mode": {
    "name": "ipython",
    "version": 3
   },
   "file_extension": ".py",
   "mimetype": "text/x-python",
   "name": "python",
   "nbconvert_exporter": "python",
   "pygments_lexer": "ipython3",
   "version": "3.7.3"
  }
 },
 "nbformat": 4,
 "nbformat_minor": 2
}
